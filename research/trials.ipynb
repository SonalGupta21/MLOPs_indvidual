{
 "cells": [
  {
   "cell_type": "code",
   "execution_count": 5,
   "id": "8e7b450d",
   "metadata": {},
   "outputs": [
    {
     "data": {
      "text/plain": [
       "'value1'"
      ]
     },
     "execution_count": 5,
     "metadata": {},
     "output_type": "execute_result"
    }
   ],
   "source": [
    "d[\"key\"]"
   ]
  },
  {
   "cell_type": "code",
   "execution_count": 6,
   "id": "44dc4796",
   "metadata": {},
   "outputs": [],
   "source": [
    "d={\"key\":\"value1\",\"key2\":\"value2\"}\n"
   ]
  },
  {
   "cell_type": "code",
   "execution_count": 8,
   "id": "d81e76c6",
   "metadata": {},
   "outputs": [
    {
     "ename": "AttributeError",
     "evalue": "'dict' object has no attribute 'key'",
     "output_type": "error",
     "traceback": [
      "\u001b[1;31m---------------------------------------------------------------------------\u001b[0m",
      "\u001b[1;31mAttributeError\u001b[0m                            Traceback (most recent call last)",
      "Cell \u001b[1;32mIn[8], line 1\u001b[0m\n\u001b[1;32m----> 1\u001b[0m d\u001b[38;5;241m.\u001b[39mkey\n",
      "\u001b[1;31mAttributeError\u001b[0m: 'dict' object has no attribute 'key'"
     ]
    }
   ],
   "source": [
    "d.key"
   ]
  },
  {
   "cell_type": "code",
   "execution_count": 10,
   "id": "775251f2",
   "metadata": {},
   "outputs": [
    {
     "name": "stdout",
     "output_type": "stream",
     "text": [
      "Collecting box\n",
      "  Downloading box-0.1.5-py3-none-any.whl.metadata (1.6 kB)\n",
      "Requirement already satisfied: aiohttp>=3.8.1 in c:\\users\\sonal\\anaconda3\\lib\\site-packages (from box) (3.9.5)\n",
      "Collecting columnar==1.3.1 (from box)\n",
      "  Downloading Columnar-1.3.1-py3-none-any.whl.metadata (11 kB)\n",
      "Collecting executing==0.8.2 (from box)\n",
      "  Downloading executing-0.8.2-py2.py3-none-any.whl.metadata (8.4 kB)\n",
      "Collecting loguru (from box)\n",
      "  Downloading loguru-0.7.3-py3-none-any.whl.metadata (22 kB)\n",
      "Collecting python-dateutil==2.8.2 (from box)\n",
      "  Downloading python_dateutil-2.8.2-py2.py3-none-any.whl.metadata (8.2 kB)\n",
      "Collecting timeago==1.0.14 (from box)\n",
      "  Downloading timeago-1.0.14.tar.gz (24 kB)\n",
      "  Preparing metadata (setup.py): started\n",
      "  Preparing metadata (setup.py): finished with status 'done'\n",
      "Requirement already satisfied: toolz in c:\\users\\sonal\\anaconda3\\lib\\site-packages (from columnar==1.3.1->box) (0.12.0)\n",
      "Requirement already satisfied: wcwidth in c:\\users\\sonal\\anaconda3\\lib\\site-packages (from columnar==1.3.1->box) (0.2.5)\n",
      "Requirement already satisfied: six>=1.5 in c:\\users\\sonal\\anaconda3\\lib\\site-packages (from python-dateutil==2.8.2->box) (1.16.0)\n",
      "Requirement already satisfied: aiosignal>=1.1.2 in c:\\users\\sonal\\anaconda3\\lib\\site-packages (from aiohttp>=3.8.1->box) (1.2.0)\n",
      "Requirement already satisfied: attrs>=17.3.0 in c:\\users\\sonal\\anaconda3\\lib\\site-packages (from aiohttp>=3.8.1->box) (23.1.0)\n",
      "Requirement already satisfied: frozenlist>=1.1.1 in c:\\users\\sonal\\anaconda3\\lib\\site-packages (from aiohttp>=3.8.1->box) (1.4.0)\n",
      "Requirement already satisfied: multidict<7.0,>=4.5 in c:\\users\\sonal\\anaconda3\\lib\\site-packages (from aiohttp>=3.8.1->box) (6.0.4)\n",
      "Requirement already satisfied: yarl<2.0,>=1.0 in c:\\users\\sonal\\anaconda3\\lib\\site-packages (from aiohttp>=3.8.1->box) (1.9.3)\n",
      "Requirement already satisfied: colorama>=0.3.4 in c:\\users\\sonal\\anaconda3\\lib\\site-packages (from loguru->box) (0.4.6)\n",
      "Collecting win32-setctime>=1.0.0 (from loguru->box)\n",
      "  Downloading win32_setctime-1.2.0-py3-none-any.whl.metadata (2.4 kB)\n",
      "Requirement already satisfied: idna>=2.0 in c:\\users\\sonal\\anaconda3\\lib\\site-packages (from yarl<2.0,>=1.0->aiohttp>=3.8.1->box) (3.7)\n",
      "Downloading box-0.1.5-py3-none-any.whl (162 kB)\n",
      "   ---------------------------------------- 0.0/162.4 kB ? eta -:--:--\n",
      "   ------------------------------------- -- 153.6/162.4 kB 9.0 MB/s eta 0:00:01\n",
      "   ------------------------------------- -- 153.6/162.4 kB 9.0 MB/s eta 0:00:01\n",
      "   ---------------------------------------- 162.4/162.4 kB 1.2 MB/s eta 0:00:00\n",
      "Downloading Columnar-1.3.1-py3-none-any.whl (11 kB)\n",
      "Downloading executing-0.8.2-py2.py3-none-any.whl (16 kB)\n",
      "Downloading python_dateutil-2.8.2-py2.py3-none-any.whl (247 kB)\n",
      "   ---------------------------------------- 0.0/247.7 kB ? eta -:--:--\n",
      "   --------------------------------------  245.8/247.7 kB 15.7 MB/s eta 0:00:01\n",
      "   ---------------------------------------- 247.7/247.7 kB 3.0 MB/s eta 0:00:00\n",
      "Downloading loguru-0.7.3-py3-none-any.whl (61 kB)\n",
      "   ---------------------------------------- 0.0/61.6 kB ? eta -:--:--\n",
      "   ---------------------------------------  61.4/61.6 kB 3.4 MB/s eta 0:00:01\n",
      "   ---------------------------------------- 61.6/61.6 kB 828.3 kB/s eta 0:00:00\n",
      "Downloading win32_setctime-1.2.0-py3-none-any.whl (4.1 kB)\n",
      "Building wheels for collected packages: timeago\n",
      "  Building wheel for timeago (setup.py): started\n",
      "  Building wheel for timeago (setup.py): finished with status 'done'\n",
      "  Created wheel for timeago: filename=timeago-1.0.14-py3-none-any.whl size=26463 sha256=c39ae0f2a137f8f6172f072a3701afde3715bc9b5eb6511934e5c5420d66cf8a\n",
      "  Stored in directory: c:\\users\\sonal\\appdata\\local\\pip\\cache\\wheels\\4e\\e0\\26\\558f81a666781177210762e365b3b5679602c9670618326f24\n",
      "Successfully built timeago\n",
      "Installing collected packages: timeago, executing, win32-setctime, python-dateutil, columnar, loguru, box\n",
      "  Attempting uninstall: executing\n",
      "    Found existing installation: executing 0.8.3\n",
      "    Uninstalling executing-0.8.3:\n",
      "      Successfully uninstalled executing-0.8.3\n",
      "  Attempting uninstall: python-dateutil\n",
      "    Found existing installation: python-dateutil 2.9.0.post0\n",
      "    Uninstalling python-dateutil-2.9.0.post0:\n",
      "      Successfully uninstalled python-dateutil-2.9.0.post0\n",
      "Successfully installed box-0.1.5 columnar-1.3.1 executing-0.8.2 loguru-0.7.3 python-dateutil-2.8.2 timeago-1.0.14 win32-setctime-1.2.0\n",
      "Requirement already satisfied: box in c:\\users\\sonal\\anaconda3\\lib\\site-packages (0.1.5)\n",
      "Requirement already satisfied: aiohttp>=3.8.1 in c:\\users\\sonal\\anaconda3\\lib\\site-packages (from box) (3.9.5)\n",
      "Requirement already satisfied: columnar==1.3.1 in c:\\users\\sonal\\anaconda3\\lib\\site-packages (from box) (1.3.1)\n",
      "Requirement already satisfied: executing==0.8.2 in c:\\users\\sonal\\anaconda3\\lib\\site-packages (from box) (0.8.2)\n",
      "Requirement already satisfied: loguru in c:\\users\\sonal\\anaconda3\\lib\\site-packages (from box) (0.7.3)\n",
      "Requirement already satisfied: python-dateutil==2.8.2 in c:\\users\\sonal\\anaconda3\\lib\\site-packages (from box) (2.8.2)\n",
      "Requirement already satisfied: timeago==1.0.14 in c:\\users\\sonal\\anaconda3\\lib\\site-packages (from box) (1.0.14)\n",
      "Requirement already satisfied: toolz in c:\\users\\sonal\\anaconda3\\lib\\site-packages (from columnar==1.3.1->box) (0.12.0)\n",
      "Requirement already satisfied: wcwidth in c:\\users\\sonal\\anaconda3\\lib\\site-packages (from columnar==1.3.1->box) (0.2.5)\n",
      "Requirement already satisfied: six>=1.5 in c:\\users\\sonal\\anaconda3\\lib\\site-packages (from python-dateutil==2.8.2->box) (1.16.0)\n",
      "Requirement already satisfied: aiosignal>=1.1.2 in c:\\users\\sonal\\anaconda3\\lib\\site-packages (from aiohttp>=3.8.1->box) (1.2.0)\n",
      "Requirement already satisfied: attrs>=17.3.0 in c:\\users\\sonal\\anaconda3\\lib\\site-packages (from aiohttp>=3.8.1->box) (23.1.0)\n",
      "Requirement already satisfied: frozenlist>=1.1.1 in c:\\users\\sonal\\anaconda3\\lib\\site-packages (from aiohttp>=3.8.1->box) (1.4.0)\n",
      "Requirement already satisfied: multidict<7.0,>=4.5 in c:\\users\\sonal\\anaconda3\\lib\\site-packages (from aiohttp>=3.8.1->box) (6.0.4)\n",
      "Requirement already satisfied: yarl<2.0,>=1.0 in c:\\users\\sonal\\anaconda3\\lib\\site-packages (from aiohttp>=3.8.1->box) (1.9.3)\n",
      "Requirement already satisfied: colorama>=0.3.4 in c:\\users\\sonal\\anaconda3\\lib\\site-packages (from loguru->box) (0.4.6)\n",
      "Requirement already satisfied: win32-setctime>=1.0.0 in c:\\users\\sonal\\anaconda3\\lib\\site-packages (from loguru->box) (1.2.0)\n",
      "Requirement already satisfied: idna>=2.0 in c:\\users\\sonal\\anaconda3\\lib\\site-packages (from yarl<2.0,>=1.0->aiohttp>=3.8.1->box) (3.7)\n"
     ]
    }
   ],
   "source": [
    "!pip install box"
   ]
  },
  {
   "cell_type": "code",
   "execution_count": null,
   "id": "46ba5eb4",
   "metadata": {},
   "outputs": [
    {
     "ename": "ImportError",
     "evalue": "cannot import name 'ConfigBox' from 'box' (c:\\Users\\sonal\\anaconda3\\Lib\\site-packages\\box\\__init__.py)",
     "output_type": "error",
     "traceback": [
      "\u001b[1;31m---------------------------------------------------------------------------\u001b[0m",
      "\u001b[1;31mImportError\u001b[0m                               Traceback (most recent call last)",
      "Cell \u001b[1;32mIn[13], line 1\u001b[0m\n\u001b[1;32m----> 1\u001b[0m \u001b[38;5;28;01mfrom\u001b[39;00m \u001b[38;5;21;01mbox\u001b[39;00m \u001b[38;5;28;01mimport\u001b[39;00m ConfigBox\n",
      "\u001b[1;31mImportError\u001b[0m: cannot import name 'ConfigBox' from 'box' (c:\\Users\\sonal\\anaconda3\\Lib\\site-packages\\box\\__init__.py)"
     ]
    }
   ],
   "source": []
  }
 ],
 "metadata": {
  "kernelspec": {
   "display_name": "base",
   "language": "python",
   "name": "python3"
  },
  "language_info": {
   "codemirror_mode": {
    "name": "ipython",
    "version": 3
   },
   "file_extension": ".py",
   "mimetype": "text/x-python",
   "name": "python",
   "nbconvert_exporter": "python",
   "pygments_lexer": "ipython3",
   "version": "3.12.12"
  }
 },
 "nbformat": 4,
 "nbformat_minor": 5
}
